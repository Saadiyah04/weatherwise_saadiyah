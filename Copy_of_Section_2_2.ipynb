{
  "nbformat": 4,
  "nbformat_minor": 0,
  "metadata": {
    "colab": {
      "provenance": [],
      "authorship_tag": "ABX9TyPsDC/OnMPAt4F9BUTOHpDu",
      "include_colab_link": true
    },
    "kernelspec": {
      "name": "python3",
      "display_name": "Python 3"
    },
    "language_info": {
      "name": "python"
    }
  },
  "cells": [
    {
      "cell_type": "markdown",
      "metadata": {
        "id": "view-in-github",
        "colab_type": "text"
      },
      "source": [
        "<a href=\"https://colab.research.google.com/github/Saadiyah04/weatherwise_saadiyah/blob/main/Copy_of_Section_2_2.ipynb\" target=\"_parent\"><img src=\"https://colab.research.google.com/assets/colab-badge.svg\" alt=\"Open In Colab\"/></a>"
      ]
    },
    {
      "cell_type": "code",
      "execution_count": null,
      "metadata": {
        "colab": {
          "base_uri": "https://localhost:8080/"
        },
        "id": "4c8Xj-UwrnHy",
        "outputId": "2874d09f-5644-48f4-86f4-dd3a163d3225"
      },
      "outputs": [
        {
          "output_type": "stream",
          "name": "stderr",
          "text": [
            "\n",
            "PYDEV DEBUGGER WARNING:\n",
            "sys.settrace() should not be used when the debugger is being used.\n",
            "This may cause the debugger to stop working correctly.\n",
            "If this is needed, please check: \n",
            "http://pydev.blogspot.com/2007/06/why-cant-pydev-debugger-work-with.html\n",
            "to see how to restore the debug tracing back correctly.\n",
            "Call Location:\n",
            "  File \"/usr/lib/python3.11/doctest.py\", line 1523, in run\n",
            "    sys.settrace(save_trace)\n",
            "\n"
          ]
        },
        {
          "output_type": "stream",
          "name": "stdout",
          "text": [
            "Added: Buy milk\n",
            "Added: Pay bills\n",
            "Added: Walk dog\n",
            "1: Buy milk\n",
            "2: Buy milk\n",
            "3: Pay bills\n",
            "4: Walk dog\n",
            "Removed: Buy milk\n",
            "1: Buy milk\n",
            "2: Pay bills\n",
            "3: Walk dog\n"
          ]
        }
      ],
      "source": [
        "# task_manager_fixed.py\n",
        "\n",
        "tasks = []\n",
        "\n",
        "def add_task(task):\n",
        "    \"\"\"\n",
        "    Adds a task to the list\n",
        "\n",
        "    >>> add_task(\"Buy milk\")\n",
        "    Added: Buy milk\n",
        "    \"\"\"\n",
        "    tasks.append(task)\n",
        "    print(f\"Added: {task}\")\n",
        "\n",
        "def remove_task(index):\n",
        "    \"\"\"\n",
        "    Removes a task by index\n",
        "\n",
        "    >>> remove_task(0)  # doctest: +SKIP\n",
        "    Removed: Buy milk\n",
        "    \"\"\"\n",
        "    if index < len(tasks):\n",
        "        removed = tasks[index]\n",
        "        del tasks[index]\n",
        "        print(f\"Removed: {removed}\")\n",
        "    else:\n",
        "        print(\"Invalid index!\")\n",
        "\n",
        "def list_tasks():\n",
        "    \"\"\"\n",
        "    Lists all current tasks\n",
        "\n",
        "    >>> list_tasks()  # doctest: +SKIP\n",
        "    1: Buy milk\n",
        "    \"\"\"\n",
        "    if not tasks:\n",
        "        print(\"No tasks available.\")\n",
        "    else:\n",
        "        for i, t in enumerate(tasks):\n",
        "            print(f\"{i+1}: {t}\")\n",
        "\n",
        "def main():\n",
        "    add_task(\"Buy milk\")\n",
        "    add_task(\"Pay bills\")\n",
        "    add_task(\"Walk dog\")\n",
        "    list_tasks()\n",
        "    remove_task(1)\n",
        "    list_tasks()\n",
        "\n",
        "if __name__ == \"__main__\":\n",
        "    import doctest\n",
        "    doctest.testmod()\n",
        "    main()"
      ]
    }
  ]
}